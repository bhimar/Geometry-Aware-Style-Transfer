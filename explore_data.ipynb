{
 "cells": [
  {
   "cell_type": "code",
   "execution_count": null,
   "id": "b874ca90",
   "metadata": {},
   "outputs": [],
   "source": [
    "import os\n",
    "import cv2\n",
    "import json\n",
    "\n",
    "json_path = \"AF_dataset/Amedeo_Modigliani/0.ljson\"\n",
    "with open(json_path) as json_file:\n",
    "    landmarks = json.load(json_file)\n",
    "\n",
    "#print(landmarks)\n",
    "\n",
    "image_path = \"AF_dataset/Amedeo_Modigliani/0.png\"\n",
    "image = cv2.imread(image_path)\n",
    "\n",
    "for point in landmarks['landmarks']['points']:\n",
    "    x = round(point[1])\n",
    "    y = round((point[0]))\n",
    "    image = cv2.circle(image, (x,y), radius=0, color=(255,0,0), thickness=3)\n",
    "\n",
    "\n",
    "cv2.imshow(\"TestImage\", image)\n",
    "cv2.waitKey(0)\n",
    "cv2.destroyAllWindows()\n",
    "\n",
    "json_path2 = \"AF_dataset/Comics/12.ljson\"\n",
    "with open(json_path2) as json_file:\n",
    "    landmarks2 = json.load(json_file)\n",
    "\n",
    "print(landmarks2[\"labels\"] == landmarks[\"labels\"])\n",
    "print(landmarks2[\"landmarks\"][\"connectivity\"] == landmarks[\"landmarks\"][\"connectivity\"])\n",
    "print(landmarks2[\"landmarks\"][\"points\"] == landmarks[\"landmarks\"][\"points\"])\n"
   ]
  }
 ],
 "metadata": {
  "kernelspec": {
   "display_name": "Python 3",
   "language": "python",
   "name": "python3"
  },
  "language_info": {
   "codemirror_mode": {
    "name": "ipython",
    "version": 3
   },
   "file_extension": ".py",
   "mimetype": "text/x-python",
   "name": "python",
   "nbconvert_exporter": "python",
   "pygments_lexer": "ipython3",
   "version": "3.6.8"
  }
 },
 "nbformat": 4,
 "nbformat_minor": 5
}
