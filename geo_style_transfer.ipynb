{
 "cells": [
  {
   "cell_type": "markdown",
   "id": "24be05dc",
   "metadata": {},
   "source": [
    "# Load an artist portrait model"
   ]
  },
  {
   "cell_type": "code",
   "execution_count": 1,
   "id": "525d6495",
   "metadata": {},
   "outputs": [],
   "source": [
    "import numpy as np\n",
    "import matplotlib.pyplot as plt\n",
    "\n",
    "artist_path = \"AF_dataset/Pablo_Picasso/\"\n",
    "mu_artist = np.load(artist_path + \"mean.npy\")\n",
    "cov_artist = np.load(artist_path + \"cov.npy\")"
   ]
  },
  {
   "cell_type": "code",
   "execution_count": 2,
   "id": "7ea83093",
   "metadata": {},
   "outputs": [],
   "source": [
    "# sample an offset vector from the distribution\n",
    "v_artist = np.random.multivariate_normal(mu_artist, cov_artist)\n",
    "x_offset = v_artist[0:68]\n",
    "y_offset = v_artist[68:]"
   ]
  },
  {
   "cell_type": "markdown",
   "id": "dbaa79c1",
   "metadata": {},
   "source": [
    "# Load Natural Image and Landmarks"
   ]
  },
  {
   "cell_type": "code",
   "execution_count": 3,
   "id": "31d0ef74",
   "metadata": {},
   "outputs": [
    {
     "name": "stdout",
     "output_type": "stream",
     "text": [
      "(68, 2)\n"
     ]
    }
   ],
   "source": [
    "natural_img = \"300w/indoor_037.png\"\n",
    "natural_pts = \"300w/indoor_037.pts\"\n",
    "\n",
    "import os\n",
    "import cv2\n",
    "import numpy as np\n",
    "\n",
    "with open(natural_pts) as pts_file:\n",
    "    data = pts_file.readlines()[3:68+3]\n",
    "    data = [np.array(line.split(), dtype=float) for line in data]\n",
    "    landmarks = np.array(data) # x is cols y is rows\n",
    "    \n",
    "# print(landmarks)\n",
    "control_points = landmarks.copy()\n",
    "    \n",
    "# print(landmarks.shape)\n",
    "image = cv2.imread(natural_img)\n",
    "im_rows = image.shape[0]\n",
    "im_cols = image.shape[1]\n",
    "\n",
    "print(control_points.shape)"
   ]
  },
  {
   "cell_type": "markdown",
   "id": "137134e7",
   "metadata": {},
   "source": [
    "# Match and Perturb Landmarks"
   ]
  },
  {
   "cell_type": "code",
   "execution_count": 4,
   "id": "ff202e2f",
   "metadata": {},
   "outputs": [
    {
     "name": "stdout",
     "output_type": "stream",
     "text": [
      "[-2.19486228e-01 -2.14186826e-01 -2.09701796e-01 -1.98625150e-01\n",
      " -1.77014371e-01 -1.37796407e-01 -9.35604790e-02 -5.46742515e-02\n",
      " -6.66826347e-03  3.37401198e-02  5.95497006e-02  8.37221557e-02\n",
      "  1.00526946e-01  1.07247904e-01  1.10099401e-01  1.13747305e-01\n",
      "  1.15204790e-01 -1.42982036e-01 -1.22029940e-01 -9.24107784e-02\n",
      " -6.03149701e-02 -2.99592814e-02  1.12023952e-02  3.91520958e-02\n",
      "  5.94718563e-02  8.75473054e-02  1.03465868e-01 -4.84670659e-03\n",
      " -1.01676647e-03  4.68502994e-03  1.11724551e-02 -4.11724551e-02\n",
      " -1.92778443e-02  0.00000000e+00  1.83377246e-02  3.31796407e-02\n",
      " -1.19229940e-01 -1.00689820e-01 -7.94922156e-02 -5.15425150e-02\n",
      " -7.87413174e-02 -9.90095808e-02  2.36000000e-02  4.82826347e-02\n",
      "  6.80407186e-02  8.33329341e-02  6.71221557e-02  4.76371257e-02\n",
      " -7.28886228e-02 -4.68538922e-02 -1.81281437e-02  1.36646707e-03\n",
      "  1.94359281e-02  4.02287425e-02  5.29832335e-02  3.94407186e-02\n",
      "  1.95365269e-02 -4.62275449e-04 -1.91616766e-02 -5.31125749e-02\n",
      " -5.87652695e-02 -1.87568862e-02  1.64790419e-03  1.84491018e-02\n",
      "  3.75497006e-02  1.90970060e-02 -6.58682635e-05 -1.92035928e-02]\n",
      "[-0.07145241 -0.02529726  0.01997001  0.06723468  0.11086571  0.1405854\n",
      "  0.16591134  0.19374446  0.19795306  0.18922425  0.15919557  0.11998566\n",
      "  0.08077053  0.03721643 -0.00888918 -0.05497784 -0.10068579 -0.14033377\n",
      " -0.15862581 -0.16831291 -0.16812256 -0.16677705 -0.16936767 -0.16820339\n",
      " -0.16680834 -0.15733507 -0.13329726 -0.12914472 -0.10398305 -0.07822947\n",
      " -0.04974576 -0.01275098 -0.00767797  0.         -0.00491004 -0.01240156\n",
      " -0.10939505 -0.12438983 -0.12519035 -0.10928162 -0.10584876 -0.10526988\n",
      " -0.11029465 -0.12586962 -0.12559713 -0.10640417 -0.10561538 -0.10608866\n",
      "  0.06793872  0.04027901  0.02061408  0.02684876  0.02144198  0.04373924\n",
      "  0.06948631  0.10221773  0.11498044  0.11655671  0.11488657  0.09815254\n",
      "  0.06694524  0.04125684  0.04294263  0.04513038  0.07211213  0.08894263\n",
      "  0.09366232  0.09318905]\n"
     ]
    }
   ],
   "source": [
    "# normalize and center landmarks\n",
    "x_landmarks = landmarks[:,0]\n",
    "y_landmarks = landmarks[:,1]\n",
    "\n",
    "# print(x_landmarks)\n",
    "# print(y_landmarks)\n",
    "\n",
    "x_landmarks /= im_cols\n",
    "y_landmarks /= im_rows\n",
    "\n",
    "# print(x_landmarks)\n",
    "# print(y_landmarks)\n",
    "nose_x = x_landmarks[33]\n",
    "nose_y = y_landmarks[33]\n",
    "\n",
    "x_landmarks -= nose_x\n",
    "y_landmarks -= nose_y\n",
    "\n",
    "print(x_landmarks)\n",
    "print(y_landmarks)"
   ]
  },
  {
   "cell_type": "code",
   "execution_count": 5,
   "id": "39acae56",
   "metadata": {},
   "outputs": [
    {
     "name": "stdout",
     "output_type": "stream",
     "text": [
      "[-1.44120717e-01 -1.51064979e-01 -1.58233089e-01 -1.08763066e-01\n",
      " -1.07943634e-01 -1.08747559e-01 -8.00616356e-02 -7.57013273e-02\n",
      " -3.38021366e-02  3.57994776e-02  8.15095656e-02  1.39411518e-01\n",
      "  1.81055464e-01  2.76484742e-01  2.83541029e-01  2.82009197e-01\n",
      "  2.92733597e-01 -1.78419682e-01 -1.49743066e-01 -1.09036258e-01\n",
      " -5.50592519e-02 -2.70051563e-03  5.97798776e-02  1.20121634e-01\n",
      "  1.81605139e-01  2.50062288e-01  2.82056756e-01  1.25200153e-02\n",
      "  1.88014120e-02  1.24000240e-02  3.63885403e-04 -4.53376622e-02\n",
      " -3.22697560e-02 -1.30390376e-08  3.93210682e-02  8.27853887e-02\n",
      " -1.69372057e-01 -1.28439830e-01 -7.58168635e-02 -1.59565667e-02\n",
      " -7.67888119e-02 -1.22661731e-01  7.54988537e-02  1.21635423e-01\n",
      "  1.73355129e-01  2.38705724e-01  1.61745626e-01  1.17065924e-01\n",
      " -4.19504908e-02 -1.09765633e-02  2.69915173e-02  4.55774627e-02\n",
      "  6.16606860e-02  7.15798898e-02  7.40501131e-02  6.71015940e-02\n",
      "  5.67332995e-02  3.25511409e-02  7.58843629e-03 -2.80298998e-02\n",
      " -2.97556395e-02  1.96121476e-02  3.78855042e-02  5.19660861e-02\n",
      "  5.89992854e-02  5.07829436e-02  3.56495069e-02  1.70616469e-02]\n",
      "[-1.58230945e-01 -1.00747445e-01 -4.28810860e-02 -6.64575804e-03\n",
      "  4.60241844e-02  9.86316634e-02  1.48507718e-01  2.03632116e-01\n",
      "  2.61796172e-01  2.48153945e-01  2.06070681e-01  1.36805051e-01\n",
      "  7.33130498e-02  5.92809604e-02 -1.99801857e-02 -8.95003921e-02\n",
      " -1.70373002e-01 -2.81627100e-01 -3.15148350e-01 -3.30830954e-01\n",
      " -3.32860734e-01 -3.29688215e-01 -3.30010684e-01 -3.28954825e-01\n",
      " -3.19559300e-01 -2.81673656e-01 -2.44517419e-01 -2.06293592e-01\n",
      " -1.66385811e-01 -1.27000096e-01 -7.26987629e-02 -3.69039027e-02\n",
      " -2.00064801e-02  5.71389957e-09 -1.84527714e-02 -1.69611342e-02\n",
      " -2.26942168e-01 -2.48696598e-01 -2.50871259e-01 -2.31084046e-01\n",
      " -2.02152233e-01 -2.01963207e-01 -1.85996595e-01 -2.22958827e-01\n",
      " -2.21328948e-01 -1.83870500e-01 -1.69787148e-01 -1.73258470e-01\n",
      "  7.39718920e-02  4.77942117e-02  2.39748203e-02  3.21121848e-02\n",
      "  2.80446211e-02  6.48331039e-02  1.00006843e-01  1.14192833e-01\n",
      "  1.24049848e-01  1.33974653e-01  1.21537304e-01  1.05936493e-01\n",
      "  7.41924180e-02  7.54342448e-02  7.13832905e-02  8.32421588e-02\n",
      "  1.03055493e-01  9.50175205e-02  8.87683521e-02  9.45786498e-02]\n"
     ]
    }
   ],
   "source": [
    "# add offset\n",
    "l_x = x_landmarks + x_offset\n",
    "l_y = y_landmarks + y_offset\n",
    "print(l_x)\n",
    "print(l_y)\n",
    "\n",
    "l_x += nose_x\n",
    "l_y += nose_y"
   ]
  },
  {
   "cell_type": "code",
   "execution_count": 6,
   "id": "d7468fd5",
   "metadata": {},
   "outputs": [
    {
     "name": "stdout",
     "output_type": "stream",
     "text": [
      "[339.25420143 333.45574279 327.47037107 368.77783956 369.46206585\n",
      " 368.79078857 392.74353427 396.38439167 431.3702159  489.48756379\n",
      " 527.65548728 576.00361788 610.77631269 690.45975996 696.35175894\n",
      " 695.07267981 704.02755363 310.61456567 334.55953969 368.54972454\n",
      " 413.62052462 457.34006945 509.51119781 559.89656461 611.2352912\n",
      " 668.39701083 695.11239116 470.04921279 475.29417906 469.94902005\n",
      " 459.89884431 421.73805203 432.64975372 459.59498911 492.42809195\n",
      " 528.72079957 318.16933275 352.3477417  396.28791894 446.27126679\n",
      " 395.47634206 357.1724549  522.63654282 561.16057814 604.34653259\n",
      " 658.91427941 594.65259735 557.34504623 424.56634019 450.42956962\n",
      " 482.13291697 497.65218139 511.08167281 519.36420802 521.42684446\n",
      " 515.62483098 506.96730512 486.77520266 465.9313443  436.19003369\n",
      " 434.74904102 475.97114326 491.22939603 502.98668192 508.85940332\n",
      " 501.9987579  489.36233822 473.84147515]\n",
      "[209.54186548 253.63170962 298.01520704 325.80770358 366.20554946\n",
      " 406.55548579 444.81041996 487.09083282 531.70266419 521.23907546\n",
      " 488.9612124  435.83447397 387.13610923 376.37349664 315.58019759\n",
      " 262.25819929 200.2289075  114.89701399  89.1862159   77.15765862\n",
      "  75.60081687  78.03413875  77.78680569  78.59664903  85.80301721\n",
      " 114.86130575 143.3601399  172.67781475 203.28708324 233.49592647\n",
      " 275.14504884 302.5997066  315.56002973 330.90500438 316.75172431\n",
      " 317.89581007 156.84035747 140.15470926 138.48674434 153.66353689\n",
      " 175.85423699 175.99922026 188.24561128 159.89557971 161.14569716\n",
      " 189.87632621 200.67825751 198.01575362 387.6414412  367.56316041\n",
      " 349.29368721 355.53504571 352.41522435 380.63199069 407.61024851\n",
      " 418.4909026  426.05123316 433.66355885 424.124112   412.15829031\n",
      " 387.81058462 388.76306578 385.65598385 394.75173583 409.94856279\n",
      " 403.78343826 398.99032603 403.44682437]\n"
     ]
    }
   ],
   "source": [
    "# map the landmarks back into the original image\n",
    "l_x *= im_cols\n",
    "l_y *= im_rows\n",
    "\n",
    "print(l_x)\n",
    "print(l_y)"
   ]
  },
  {
   "cell_type": "markdown",
   "id": "c1cd1250",
   "metadata": {},
   "source": [
    "# Apply Style Transfer With TPS Interpolation"
   ]
  },
  {
   "cell_type": "code",
   "execution_count": 7,
   "id": "07fbf1af",
   "metadata": {},
   "outputs": [
    {
     "data": {
      "text/plain": [
       "<matplotlib.collections.PathCollection at 0x7f582cc285f8>"
      ]
     },
     "execution_count": 7,
     "metadata": {},
     "output_type": "execute_result"
    },
    {
     "data": {
      "image/png": "[encoded data removed]",
      "text/plain": [
       "<Figure size 432x288 with 1 Axes>"
      ]
     },
     "metadata": {
      "needs_background": "light"
     },
     "output_type": "display_data"
    }
   ],
   "source": [
    "target_points = np.zeros((68,2))\n",
    "target_points[:,0] = l_x\n",
    "target_points[:,1] = l_y\n",
    "plt.figure(1)\n",
    "plt.scatter(l_x, l_y)"
   ]
  },
  {
   "cell_type": "code",
   "execution_count": 8,
   "id": "0362889c",
   "metadata": {},
   "outputs": [],
   "source": [
    "matches = list()\n",
    "for ipoint in range(0, control_points.shape[0]):\n",
    "    matches.append(cv2.DMatch(ipoint, ipoint, 0))\n",
    "    \n",
    "# print(control_points)\n",
    "# print(target_points)\n",
    "    \n",
    "target_image = image.copy()\n",
    "control_image = image.copy()\n",
    "    \n",
    "for i in range(control_points.shape[0]):\n",
    "    control = np.round(control_points[i])\n",
    "    target = np.round(target_points[i])\n",
    "    control_image = cv2.circle(control_image, (int(control[0]), int(control[1])), radius = 0, color=(0,255,0), thickness = 3)\n",
    "    target_image = cv2.circle(target_image, (int(target[0]), int(target[1])), radius = 0, color = (0,255,0), thickness = 3)\n",
    "    \n",
    "cv2.imshow(\"control\", control_image)\n",
    "cv2.waitKey(0)\n",
    "cv2.destroyAllWindows()\n",
    "\n",
    "cv2.imshow(\"target\", target_image)\n",
    "cv2.waitKey(0)\n",
    "cv2.destroyAllWindows()\n",
    "    \n",
    "wrap_control_points = np.array([control_points])\n",
    "wrap_target_points = np.array([target_points])\n",
    "    \n",
    "tps = cv2.createThinPlateSplineShapeTransformer()\n",
    "tps.estimateTransformation(wrap_control_points, wrap_target_points, matches)\n",
    "warped = tps.warpImage(image)\n",
    "for i in range(target_points.shape[0]):\n",
    "    control = np.round(control_points[i])\n",
    "    target = np.round(target_points[i])\n",
    "#     control_image = cv2.circle(image, (int(control[0]), int(control[1])), radius = 0, color=(0,255,0), thickness = 3)\n",
    "    warped = cv2.circle(warped, (int(target[0]), int(target[1])), radius = 0, color = (0,255,0), thickness = 3)\n",
    "\n",
    "cv2.imshow(\"warped\", warped)\n",
    "cv2.waitKey(0)\n",
    "cv2.destroyAllWindows()"
   ]
  },
  {
   "cell_type": "code",
   "execution_count": null,
   "id": "7e46399f",
   "metadata": {},
   "outputs": [],
   "source": []
  }
 ],
 "metadata": {
  "kernelspec": {
   "display_name": "Python 3",
   "language": "python",
   "name": "python3"
  },
  "language_info": {
   "codemirror_mode": {
    "name": "ipython",
    "version": 3
   },
   "file_extension": ".py",
   "mimetype": "text/x-python",
   "name": "python",
   "nbconvert_exporter": "python",
   "pygments_lexer": "ipython3",
   "version": "3.6.8"
  }
 },
 "nbformat": 4,
 "nbformat_minor": 5
}
