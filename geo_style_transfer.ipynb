{
 "cells": [
  {
   "cell_type": "markdown",
   "id": "24be05dc",
   "metadata": {},
   "source": [
    "# Load an artist portrait model"
   ]
  },
  {
   "cell_type": "code",
   "execution_count": 1,
   "id": "525d6495",
   "metadata": {},
   "outputs": [],
   "source": [
    "import numpy as np\n",
    "import matplotlib.pyplot as plt\n",
    "\n",
    "artist_path = \"AF_dataset/Amedeo_Modigliani/\"\n",
    "mu_artist = np.load(artist_path + \"mean.npy\")\n",
    "cov_artist = np.load(artist_path + \"cov.npy\")"
   ]
  },
  {
   "cell_type": "code",
   "execution_count": 2,
   "id": "7ea83093",
   "metadata": {},
   "outputs": [],
   "source": [
    "# sample an offset vector from the distribution\n",
    "v_artist = np.random.multivariate_normal(mu_artist, cov_artist)\n",
    "x_offset = v_artist[0:68]\n",
    "y_offset = v_artist[68:]"
   ]
  },
  {
   "cell_type": "markdown",
   "id": "dbaa79c1",
   "metadata": {},
   "source": [
    "# Load Natural Image and Landmarks"
   ]
  },
  {
   "cell_type": "code",
   "execution_count": 3,
   "id": "31d0ef74",
   "metadata": {},
   "outputs": [
    {
     "name": "stdout",
     "output_type": "stream",
     "text": [
      "(68, 2)\n"
     ]
    }
   ],
   "source": [
    "natural_img = \"300w/indoor_037.png\"\n",
    "natural_pts = \"300w/indoor_037.pts\"\n",
    "\n",
    "import os\n",
    "import cv2\n",
    "import numpy as np\n",
    "\n",
    "with open(natural_pts) as pts_file:\n",
    "    data = pts_file.readlines()[3:68+3]\n",
    "    data = [np.array(line.split(), dtype=float) for line in data]\n",
    "    landmarks = np.array(data) # x is cols y is rows\n",
    "    \n",
    "# print(landmarks)\n",
    "control_points = landmarks.copy()\n",
    "    \n",
    "# print(landmarks.shape)\n",
    "image = cv2.imread(natural_img)\n",
    "im_rows = image.shape[0]\n",
    "im_cols = image.shape[1]\n",
    "\n",
    "print(control_points.shape)"
   ]
  },
  {
   "cell_type": "markdown",
   "id": "137134e7",
   "metadata": {},
   "source": [
    "# Match and Perturb Landmarks"
   ]
  },
  {
   "cell_type": "code",
   "execution_count": 4,
   "id": "ff202e2f",
   "metadata": {},
   "outputs": [
    {
     "name": "stdout",
     "output_type": "stream",
     "text": [
      "[-2.19486228e-01 -2.14186826e-01 -2.09701796e-01 -1.98625150e-01\n",
      " -1.77014371e-01 -1.37796407e-01 -9.35604790e-02 -5.46742515e-02\n",
      " -6.66826347e-03  3.37401198e-02  5.95497006e-02  8.37221557e-02\n",
      "  1.00526946e-01  1.07247904e-01  1.10099401e-01  1.13747305e-01\n",
      "  1.15204790e-01 -1.42982036e-01 -1.22029940e-01 -9.24107784e-02\n",
      " -6.03149701e-02 -2.99592814e-02  1.12023952e-02  3.91520958e-02\n",
      "  5.94718563e-02  8.75473054e-02  1.03465868e-01 -4.84670659e-03\n",
      " -1.01676647e-03  4.68502994e-03  1.11724551e-02 -4.11724551e-02\n",
      " -1.92778443e-02  0.00000000e+00  1.83377246e-02  3.31796407e-02\n",
      " -1.19229940e-01 -1.00689820e-01 -7.94922156e-02 -5.15425150e-02\n",
      " -7.87413174e-02 -9.90095808e-02  2.36000000e-02  4.82826347e-02\n",
      "  6.80407186e-02  8.33329341e-02  6.71221557e-02  4.76371257e-02\n",
      " -7.28886228e-02 -4.68538922e-02 -1.81281437e-02  1.36646707e-03\n",
      "  1.94359281e-02  4.02287425e-02  5.29832335e-02  3.94407186e-02\n",
      "  1.95365269e-02 -4.62275449e-04 -1.91616766e-02 -5.31125749e-02\n",
      " -5.87652695e-02 -1.87568862e-02  1.64790419e-03  1.84491018e-02\n",
      "  3.75497006e-02  1.90970060e-02 -6.58682635e-05 -1.92035928e-02]\n",
      "[-0.07145241 -0.02529726  0.01997001  0.06723468  0.11086571  0.1405854\n",
      "  0.16591134  0.19374446  0.19795306  0.18922425  0.15919557  0.11998566\n",
      "  0.08077053  0.03721643 -0.00888918 -0.05497784 -0.10068579 -0.14033377\n",
      " -0.15862581 -0.16831291 -0.16812256 -0.16677705 -0.16936767 -0.16820339\n",
      " -0.16680834 -0.15733507 -0.13329726 -0.12914472 -0.10398305 -0.07822947\n",
      " -0.04974576 -0.01275098 -0.00767797  0.         -0.00491004 -0.01240156\n",
      " -0.10939505 -0.12438983 -0.12519035 -0.10928162 -0.10584876 -0.10526988\n",
      " -0.11029465 -0.12586962 -0.12559713 -0.10640417 -0.10561538 -0.10608866\n",
      "  0.06793872  0.04027901  0.02061408  0.02684876  0.02144198  0.04373924\n",
      "  0.06948631  0.10221773  0.11498044  0.11655671  0.11488657  0.09815254\n",
      "  0.06694524  0.04125684  0.04294263  0.04513038  0.07211213  0.08894263\n",
      "  0.09366232  0.09318905]\n"
     ]
    }
   ],
   "source": [
    "# normalize and center landmarks\n",
    "x_landmarks = landmarks[:,0]\n",
    "y_landmarks = landmarks[:,1]\n",
    "\n",
    "# print(x_landmarks)\n",
    "# print(y_landmarks)\n",
    "\n",
    "x_landmarks /= im_cols\n",
    "y_landmarks /= im_rows\n",
    "\n",
    "# print(x_landmarks)\n",
    "# print(y_landmarks)\n",
    "nose_x = x_landmarks[33]\n",
    "nose_y = y_landmarks[33]\n",
    "\n",
    "x_landmarks -= nose_x\n",
    "y_landmarks -= nose_y\n",
    "\n",
    "print(x_landmarks)\n",
    "print(y_landmarks)"
   ]
  },
  {
   "cell_type": "code",
   "execution_count": 5,
   "id": "39acae56",
   "metadata": {},
   "outputs": [
    {
     "name": "stdout",
     "output_type": "stream",
     "text": [
      "[-3.34123521e-01 -3.09076097e-01 -2.78969214e-01 -2.40096932e-01\n",
      " -1.92234829e-01 -1.24688647e-01 -8.04240638e-02 -4.70466028e-02\n",
      "  1.28835091e-02  5.61109957e-02  6.40258774e-02  6.83908635e-02\n",
      "  8.46783979e-02  9.50206992e-02  9.80593588e-02  9.70803348e-02\n",
      "  9.23611864e-02 -2.65896842e-01 -2.26926160e-01 -1.93612004e-01\n",
      " -1.62004915e-01 -1.35810405e-01 -5.16361661e-02 -2.13623321e-02\n",
      " -4.83347354e-03  3.14629784e-02  6.78570242e-02 -6.72232692e-02\n",
      " -4.74876291e-02 -2.64376652e-02 -1.25865755e-02 -4.74149022e-02\n",
      " -2.95702965e-02 -3.66712177e-09  2.28439141e-02  3.62400107e-02\n",
      " -2.27270679e-01 -1.98741906e-01 -1.52359576e-01 -1.12394660e-01\n",
      " -1.62174168e-01 -2.05952918e-01 -1.98211145e-02  1.57906017e-02\n",
      "  5.06259774e-02  8.44955304e-02  5.73333431e-02  2.59734738e-02\n",
      " -4.52900879e-02 -2.70117473e-02 -1.19299859e-02  1.76591196e-03\n",
      "  1.27492689e-02  2.34038371e-02  2.50997793e-02  3.04942002e-02\n",
      "  2.48060881e-02  7.33259917e-03 -1.13427967e-02 -4.29130125e-02\n",
      " -3.02267754e-02 -8.69391570e-03  1.03754406e-02  2.43091500e-02\n",
      "  1.59230105e-02  2.31868473e-02  8.29899512e-03 -7.93567529e-03]\n",
      "[-2.12901632e-01 -1.41984319e-01 -6.67076444e-02  4.05020590e-03\n",
      "  7.07949028e-02  1.12758499e-01  1.49874134e-01  1.91767393e-01\n",
      "  2.02465299e-01  1.75331535e-01  1.29772657e-01  7.90014372e-02\n",
      "  8.51520041e-03 -7.53184794e-02 -1.63451470e-01 -2.55709969e-01\n",
      " -3.40940570e-01 -3.04428457e-01 -3.09009294e-01 -3.09311675e-01\n",
      " -3.07083853e-01 -3.00586231e-01 -3.29840281e-01 -3.46129988e-01\n",
      " -3.58566416e-01 -3.60647734e-01 -3.52211060e-01 -2.82934245e-01\n",
      " -2.10366127e-01 -1.33057698e-01 -5.85177700e-02 -1.96482540e-03\n",
      " -6.59680642e-03 -1.83835439e-09 -2.26510987e-02 -3.83954497e-02\n",
      " -2.58112832e-01 -2.84352601e-01 -2.82142755e-01 -2.49939707e-01\n",
      " -2.39373985e-01 -2.39275859e-01 -2.77931572e-01 -3.17957875e-01\n",
      " -3.24426629e-01 -2.97961055e-01 -2.80714312e-01 -2.69658149e-01\n",
      "  5.85912707e-02  3.56890865e-02  1.63882847e-02  2.24665929e-02\n",
      "  9.93000874e-03  2.60237934e-02  3.86641637e-02  6.15258372e-02\n",
      "  7.97712215e-02  9.02135363e-02  8.92240221e-02  7.46240439e-02\n",
      "  5.88371631e-02  4.21775503e-02  4.26548578e-02  3.98047551e-02\n",
      "  4.80114511e-02  4.91527064e-02  6.00103935e-02  6.03007184e-02]\n"
     ]
    }
   ],
   "source": [
    "# add offset\n",
    "l_x = x_landmarks + x_offset\n",
    "l_y = y_landmarks + y_offset\n",
    "print(l_x)\n",
    "print(l_y)\n",
    "\n",
    "l_x += nose_x\n",
    "l_y += nose_y"
   ]
  },
  {
   "cell_type": "code",
   "execution_count": 6,
   "id": "d7468fd5",
   "metadata": {},
   "outputs": [
    {
     "name": "stdout",
     "output_type": "stream",
     "text": [
      "[180.6018597  201.51645939 226.65570643 259.11406178 299.07891775\n",
      " 355.47997986 392.44090676 420.31108663 470.35273008 506.4476814\n",
      " 513.05660761 516.70137103 530.30146228 538.93728387 541.4745646\n",
      " 540.65707953 536.71659065 237.57113653 270.11165608 297.92897698\n",
      " 324.32089588 346.19331197 416.47880133 441.75745267 455.55904959\n",
      " 485.86658695 516.25561518 403.46357021 419.94282971 437.51954959\n",
      " 449.08520945 420.0035567  434.90380243 459.59499694 478.66966829\n",
      " 489.85540896 269.82398321 293.64550857 332.3747543  365.74545902\n",
      " 324.17956968 287.62431318 443.04436942 472.78015238 501.86769112\n",
      " 530.14876789 507.46834145 481.2828506  421.77777659 437.04019098\n",
      " 449.63346178 461.06953649 470.24063954 479.137204   480.55331569\n",
      " 485.05765713 480.30808355 465.71772031 450.12376474 423.7626346\n",
      " 434.35564252 452.33558039 468.25849287 479.89314027 472.8907138\n",
      " 478.95601747 466.52466092 452.96871114]\n",
      "[167.60944855 222.00302759 279.74023674 334.01150792 385.20469043\n",
      " 417.39076871 445.85846093 477.99059052 486.19588424 465.38428728\n",
      " 430.44062813 391.49910232 337.43615872 273.1357263  205.53772231\n",
      " 134.77545362  69.4035825   97.40837384  93.89487138  93.66294494\n",
      "  95.37168491 100.35536099  77.91750473  65.42329931  55.88455888\n",
      "  54.28818809  60.75911672 113.8944342  169.55418096 228.84974568\n",
      " 286.0218704  329.39797892 325.84524948 330.90499859 313.53160728\n",
      " 301.45569006 132.93245794 112.80655485 114.50150724 139.20124458\n",
      " 147.30515363 147.38041607 117.73148393  87.03131022  82.06977536\n",
      " 102.36887075 115.59712241 124.0771999  375.84450463 358.27852938\n",
      " 343.47481435 348.13687675 338.52131671 350.86524954 360.56041357\n",
      " 378.09531715 392.08952691 400.09878235 399.33982495 388.14164167\n",
      " 376.03310406 363.25518111 363.62127596 361.43524714 367.729783\n",
      " 368.60512577 376.9329718  377.15565101]\n"
     ]
    }
   ],
   "source": [
    "# map the landmarks back into the original image\n",
    "l_x *= im_cols\n",
    "l_y *= im_rows\n",
    "\n",
    "print(l_x)\n",
    "print(l_y)"
   ]
  },
  {
   "cell_type": "markdown",
   "id": "c1cd1250",
   "metadata": {},
   "source": [
    "# Apply Style Transfer With TPS Interpolation"
   ]
  },
  {
   "cell_type": "code",
   "execution_count": 9,
   "id": "07fbf1af",
   "metadata": {},
   "outputs": [
    {
     "data": {
      "text/plain": [
       "<matplotlib.collections.PathCollection at 0x7fcfac601c18>"
      ]
     },
     "execution_count": 9,
     "metadata": {},
     "output_type": "execute_result"
    },
    {
     "data": {
      "image/png": "[encoded data removed]",
      "text/plain": [
       "<Figure size 432x288 with 1 Axes>"
      ]
     },
     "metadata": {
      "needs_background": "light"
     },
     "output_type": "display_data"
    }
   ],
   "source": [
    "target_points = np.zeros((68,2))\n",
    "target_points[:,0] = l_x\n",
    "target_points[:,1] = l_y\n",
    "plt.figure(1)\n",
    "plt.scatter(l_x, -l_y)"
   ]
  },
  {
   "cell_type": "code",
   "execution_count": 8,
   "id": "0362889c",
   "metadata": {},
   "outputs": [],
   "source": [
    "matches = list()\n",
    "for ipoint in range(0, control_points.shape[0]):\n",
    "    matches.append(cv2.DMatch(ipoint, ipoint, 0))\n",
    "    \n",
    "# print(control_points)\n",
    "# print(target_points)\n",
    "    \n",
    "target_image = image.copy()\n",
    "control_image = image.copy()\n",
    "    \n",
    "for i in range(control_points.shape[0]):\n",
    "    control = np.round(control_points[i])\n",
    "    target = np.round(target_points[i])\n",
    "    control_image = cv2.circle(control_image, (int(control[0]), int(control[1])), radius = 0, color=(0,255,0), thickness = 3)\n",
    "    target_image = cv2.circle(target_image, (int(target[0]), int(target[1])), radius = 0, color = (0,255,0), thickness = 3)\n",
    "    \n",
    "# cv2.imshow(\"control\", control_image)\n",
    "# cv2.waitKey(0)\n",
    "# cv2.destroyAllWindows()\n",
    "\n",
    "# cv2.imshow(\"target\", target_image)\n",
    "# cv2.waitKey(0)\n",
    "# cv2.destroyAllWindows()\n",
    "    \n",
    "wrap_control_points = np.array([control_points])\n",
    "wrap_target_points = np.array([target_points])\n",
    "    \n",
    "tps = cv2.createThinPlateSplineShapeTransformer()\n",
    "tps.estimateTransformation(wrap_target_points, wrap_control_points, matches)\n",
    "warped = tps.warpImage(image)\n",
    "for i in range(target_points.shape[0]):\n",
    "    control = np.round(control_points[i])\n",
    "    target = np.round(target_points[i])\n",
    "#     control_image = cv2.circle(image, (int(control[0]), int(control[1])), radius = 0, color=(0,255,0), thickness = 3)\n",
    "    warped = cv2.circle(warped, (int(target[0]), int(target[1])), radius = 0, color = (0,255,0), thickness = 3)\n",
    "\n",
    "cv2.imshow(\"warped\", warped)\n",
    "cv2.waitKey(0)\n",
    "cv2.destroyAllWindows()"
   ]
  },
  {
   "cell_type": "code",
   "execution_count": null,
   "id": "7e46399f",
   "metadata": {},
   "outputs": [],
   "source": []
  }
 ],
 "metadata": {
  "kernelspec": {
   "display_name": "Python 3",
   "language": "python",
   "name": "python3"
  },
  "language_info": {
   "codemirror_mode": {
    "name": "ipython",
    "version": 3
   },
   "file_extension": ".py",
   "mimetype": "text/x-python",
   "name": "python",
   "nbconvert_exporter": "python",
   "pygments_lexer": "ipython3",
   "version": "3.6.8"
  }
 },
 "nbformat": 4,
 "nbformat_minor": 5
}
