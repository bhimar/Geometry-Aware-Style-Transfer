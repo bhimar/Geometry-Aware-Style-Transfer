{
 "cells": [
  {
   "cell_type": "markdown",
   "id": "24be05dc",
   "metadata": {},
   "source": [
    "# Load an artist portrait model"
   ]
  },
  {
   "cell_type": "code",
   "execution_count": 2,
   "id": "525d6495",
   "metadata": {},
   "outputs": [],
   "source": [
    "import numpy as np\n",
    "\n",
    "artist_path = \"AF_dataset/Amedeo_Modigliani/\"\n",
    "mu_artist = np.load(artist_path + \"mean.npy\")\n",
    "cov_artist = np.load(artist_path + \"cov.npy\")"
   ]
  },
  {
   "cell_type": "code",
   "execution_count": 3,
   "id": "7ea83093",
   "metadata": {},
   "outputs": [],
   "source": [
    "# sample an offset vector from the distribution\n",
    "v_artist = np.random.multivariate_normal(mu_artist, cov_artist)\n",
    "x_offset = v_artist[0:68]\n",
    "y_offset = v_artist[68:]"
   ]
  },
  {
   "cell_type": "markdown",
   "id": "dbaa79c1",
   "metadata": {},
   "source": [
    "# Load Natural Image and Landmarks"
   ]
  },
  {
   "cell_type": "code",
   "execution_count": 4,
   "id": "31d0ef74",
   "metadata": {},
   "outputs": [
    {
     "name": "stdout",
     "output_type": "stream",
     "text": [
      "(68, 2)\n"
     ]
    }
   ],
   "source": [
    "natural_img = \"300w/indoor_007.png\"\n",
    "natural_pts = \"300w/indoor_007.pts\"\n",
    "\n",
    "import os\n",
    "import cv2\n",
    "import numpy as np\n",
    "\n",
    "with open(natural_pts) as pts_file:\n",
    "    data = pts_file.readlines()[3:68+3]\n",
    "    data = [np.array(line.split(), dtype=float) for line in data]\n",
    "    landmarks = np.array(data) # x is cols y is rows\n",
    "    \n",
    "print(landmarks.shape)\n",
    "image = cv2.imread(natural_img)\n",
    "im_rows = image.shape[0]\n",
    "im_cols = image.shape[1]"
   ]
  },
  {
   "cell_type": "markdown",
   "id": "137134e7",
   "metadata": {},
   "source": [
    "# Match and Perturb Landmarks"
   ]
  },
  {
   "cell_type": "code",
   "execution_count": 5,
   "id": "ff202e2f",
   "metadata": {},
   "outputs": [],
   "source": [
    "# normalize and center landmarks\n",
    "x_landmarks = landmarks[:,0]\n",
    "y_landmarks = landmarks[:,1]\n",
    "\n",
    "x_landmarks /= im_cols\n",
    "y_landmarks /= im_rows\n",
    "\n",
    "x_landmarks -= x_landmarks[33]\n",
    "y_landmarks -= y_landmarks[33]"
   ]
  },
  {
   "cell_type": "code",
   "execution_count": 6,
   "id": "39acae56",
   "metadata": {},
   "outputs": [],
   "source": [
    "# add offset\n",
    "l_x = x_landmarks + x_offset\n",
    "l_y = y_landmarks + y_offset"
   ]
  },
  {
   "cell_type": "code",
   "execution_count": 7,
   "id": "d7468fd5",
   "metadata": {},
   "outputs": [],
   "source": [
    "# map the landmarks back into the original image\n",
    "l_x += x_landmarks[33]\n",
    "l_y += y_landmarks[33]\n",
    "l_x *= im_cols\n",
    "l_y *= im_rows"
   ]
  },
  {
   "cell_type": "markdown",
   "id": "c1cd1250",
   "metadata": {},
   "source": [
    "# Apply Style Transfer With TPS Interpolation"
   ]
  },
  {
   "cell_type": "code",
   "execution_count": 27,
   "id": "07fbf1af",
   "metadata": {},
   "outputs": [],
   "source": [
    "control_points = np.zeros((68,2))\n",
    "target_points = np.zeros((68,2))\n",
    "control_points[:,0] = x_landmarks\n",
    "control_points[:,1] = y_landmarks\n",
    "target_points[:,0] = x_landmarks\n",
    "target_points[:,1] = y_landmarks\n",
    "    \n",
    "matches = list()\n",
    "for ipoint in range(0, control_points.shape[1]):\n",
    "    matches.append(cv2.DMatch(ipoint, ipoint, 0))\n",
    "    \n",
    "    \n",
    "control_points = np.array([control_points])\n",
    "target_points = np.array([target_points])\n",
    "    \n",
    "tps = cv2.createThinPlateSplineShapeTransformer()\n",
    "tps.estimateTransformation(control_points, target_points, matches)\n",
    "warped = tps.warpImage(image)"
   ]
  },
  {
   "cell_type": "code",
   "execution_count": 28,
   "id": "0362889c",
   "metadata": {},
   "outputs": [],
   "source": [
    "cv2.imshow(\"test\", image)\n",
    "cv2.waitKey(0)\n",
    "cv2.destroyAllWindows()\n",
    "\n",
    "cv2.imshow(\"warped\", warped)\n",
    "cv2.waitKey(0)\n",
    "cv2.destroyAllWindows()"
   ]
  },
  {
   "cell_type": "code",
   "execution_count": null,
   "id": "70de499c",
   "metadata": {},
   "outputs": [],
   "source": []
  }
 ],
 "metadata": {
  "kernelspec": {
   "display_name": "Python 3",
   "language": "python",
   "name": "python3"
  },
  "language_info": {
   "codemirror_mode": {
    "name": "ipython",
    "version": 3
   },
   "file_extension": ".py",
   "mimetype": "text/x-python",
   "name": "python",
   "nbconvert_exporter": "python",
   "pygments_lexer": "ipython3",
   "version": "3.6.8"
  }
 },
 "nbformat": 4,
 "nbformat_minor": 5
}
