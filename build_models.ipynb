{
 "cells": [
  {
   "cell_type": "code",
   "execution_count": 1,
   "id": "2f804253",
   "metadata": {},
   "outputs": [
    {
     "name": "stdout",
     "output_type": "stream",
     "text": [
      "['0.png', '1.png', '2.png', '3.png', '4.png', '5.png', '6.png', '7.png', '8.png', '9.png']\n",
      "['0.ljson', '1.ljson', '2.ljson', '3.ljson', '4.ljson', '5.ljson', '6.ljson', '7.ljson', '8.ljson', '9.ljson']\n",
      "10\n"
     ]
    }
   ],
   "source": [
    "import os\n",
    "import cv2\n",
    "import json\n",
    "import numpy as np\n",
    "\n",
    "artist_path = \"AF_dataset/Amedeo_Modigliani\"\n",
    "image_files = []\n",
    "json_files = []\n",
    "for file in os.listdir(artist_path):\n",
    "    if file.endswith(\".png\"):\n",
    "        image_files.append(file)\n",
    "    elif file.endswith(\".ljson\"):\n",
    "        json_files.append(file)\n",
    "        \n",
    "image_files.sort()\n",
    "json_files.sort()\n",
    "assert(len(image_files) == len(json_files))\n",
    "n = len(image_files)\n",
    "n_landmarks = 68\n",
    "\n",
    "print(image_files)\n",
    "print(json_files)\n",
    "print(n)"
   ]
  },
  {
   "cell_type": "code",
   "execution_count": 2,
   "id": "95708cc2",
   "metadata": {},
   "outputs": [],
   "source": [
    "# Build data matrices for x and y landmark points\n",
    "x_data = np.zeros((n,n_landmarks))\n",
    "y_data = np.zeros((n, n_landmarks))\n",
    "i = 0\n",
    "for json_name in json_files:\n",
    "    with open(artist_path + \"/\" + json_name) as json_file:\n",
    "        landmarks = json.load(json_file)\n",
    "    points = np.array(landmarks[\"landmarks\"][\"points\"]) # 68 x 2 np array\n",
    "    x_data[i] = points[:,0]\n",
    "    y_data[i] = points[:,1]\n",
    "    i += 1"
   ]
  },
  {
   "cell_type": "code",
   "execution_count": null,
   "id": "dabe2616",
   "metadata": {},
   "outputs": [],
   "source": []
  }
 ],
 "metadata": {
  "kernelspec": {
   "display_name": "Python 3",
   "language": "python",
   "name": "python3"
  },
  "language_info": {
   "codemirror_mode": {
    "name": "ipython",
    "version": 3
   },
   "file_extension": ".py",
   "mimetype": "text/x-python",
   "name": "python",
   "nbconvert_exporter": "python",
   "pygments_lexer": "ipython3",
   "version": "3.6.8"
  }
 },
 "nbformat": 4,
 "nbformat_minor": 5
}
