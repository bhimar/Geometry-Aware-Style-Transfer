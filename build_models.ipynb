{
 "cells": [
  {
   "cell_type": "markdown",
   "id": "886d7148",
   "metadata": {},
   "source": [
    "# Build Average Face"
   ]
  },
  {
   "cell_type": "code",
   "execution_count": 27,
   "id": "255b8db8",
   "metadata": {},
   "outputs": [
    {
     "data": {
      "image/png": "[encoded data removed]",
      "text/plain": [
       "<Figure size 432x288 with 1 Axes>"
      ]
     },
     "metadata": {
      "needs_background": "light"
     },
     "output_type": "display_data"
    }
   ],
   "source": [
    "import os\n",
    "import cv2\n",
    "import numpy as np\n",
    "import matplotlib.pyplot as plt\n",
    "\n",
    "faces_path = \"300w/\"\n",
    "image_files = []\n",
    "pts_files = []\n",
    "for file in os.listdir(faces_path):\n",
    "    if file.endswith(\".png\"):\n",
    "        image_files.append(file)\n",
    "#         print(file)\n",
    "    elif file.endswith(\".pts\"):\n",
    "        pts_files.append(file)\n",
    "\n",
    "image_files.sort()\n",
    "pts_files.sort()\n",
    "\n",
    "\n",
    "# Get Landmark X and Y Points\n",
    "landmark_x = []\n",
    "landmark_y = []\n",
    "for pts in pts_files:\n",
    "    pts_path = faces_path + pts\n",
    "    with open(pts_path) as pts_file:\n",
    "        data = pts_file.readlines()[3:68+3]\n",
    "        data = [np.array(line.split(), dtype=float) for line in data]\n",
    "        landmarks = np.array(data)\n",
    "\n",
    "        x_points = landmarks[:,0]\n",
    "        y_points = landmarks[:,1]\n",
    "        \n",
    "        landmark_x.append(x_points)\n",
    "        landmark_y.append(y_points)\n",
    "\n",
    "landmark_x = np.array(landmark_x)\n",
    "landmark_y = np.array(landmark_y)\n",
    "\n",
    "\n",
    "# Get image dimensions for normalization\n",
    "im_rows = []\n",
    "im_cols = []\n",
    "for image in image_files:\n",
    "    im = cv2.imread(faces_path + image)\n",
    "    im_rows.append(im.shape[0])\n",
    "    im_cols.append(im.shape[1])\n",
    "\n",
    "im_rows = np.array(im_rows)\n",
    "im_cols = np.array(im_cols)\n",
    "\n",
    "# Normalize by dividing by image height and width\n",
    "for i in range(600):\n",
    "    landmark_x[i] /= im_rows[i]\n",
    "    landmark_y[i] /= im_cols[i]\n",
    "    \n",
    "# Compute average face\n",
    "average_x = np.mean(landmark_x, axis=0)\n",
    "average_y = np.mean(landmark_y, axis=0)\n",
    "\n",
    "plt.figure(0)\n",
    "plt.scatter(average_x, -1 * average_y)\n",
    "plt.show()"
   ]
  },
  {
   "cell_type": "markdown",
   "id": "6d9d34d8",
   "metadata": {},
   "source": [
    "# Compute Facial Models"
   ]
  },
  {
   "cell_type": "markdown",
   "id": "f0660736",
   "metadata": {},
   "source": [
    "import os\n",
    "import cv2\n",
    "import json\n",
    "import numpy as np\n",
    "\n",
    "artist_path = \"AF_dataset/Amedeo_Modigliani\"\n",
    "image_files = []\n",
    "json_files = []\n",
    "for file in os.listdir(artist_path):\n",
    "    if file.endswith(\".png\"):\n",
    "        image_files.append(file)\n",
    "    elif file.endswith(\".ljson\"):\n",
    "        json_files.append(file)\n",
    "        \n",
    "image_files.sort()\n",
    "json_files.sort()\n",
    "assert(len(image_files) == len(json_files))\n",
    "n = len(image_files)\n",
    "n_landmarks = 68\n",
    "\n",
    "print(image_files)\n",
    "print(json_files)\n",
    "print(n)"
   ]
  },
  {
   "cell_type": "code",
   "execution_count": 2,
   "id": "95708cc2",
   "metadata": {},
   "outputs": [],
   "source": [
    "# Build data matrices for x and y landmark points\n",
    "x_data = np.zeros((n,n_landmarks))\n",
    "y_data = np.zeros((n, n_landmarks))\n",
    "i = 0\n",
    "for json_name in json_files:\n",
    "    with open(artist_path + \"/\" + json_name) as json_file:\n",
    "        landmarks = json.load(json_file)\n",
    "    points = np.array(landmarks[\"landmarks\"][\"points\"]) # 68 x 2 np array\n",
    "    x_data[i] = points[:,0]\n",
    "    y_data[i] = points[:,1]\n",
    "    i += 1"
   ]
  },
  {
   "cell_type": "code",
   "execution_count": null,
   "id": "dabe2616",
   "metadata": {},
   "outputs": [],
   "source": []
  }
 ],
 "metadata": {
  "kernelspec": {
   "display_name": "Python 3",
   "language": "python",
   "name": "python3"
  },
  "language_info": {
   "codemirror_mode": {
    "name": "ipython",
    "version": 3
   },
   "file_extension": ".py",
   "mimetype": "text/x-python",
   "name": "python",
   "nbconvert_exporter": "python",
   "pygments_lexer": "ipython3",
   "version": "3.6.8"
  }
 },
 "nbformat": 4,
 "nbformat_minor": 5
}
