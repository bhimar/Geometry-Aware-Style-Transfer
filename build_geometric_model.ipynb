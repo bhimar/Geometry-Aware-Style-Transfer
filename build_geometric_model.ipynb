{
 "cells": [
  {
   "cell_type": "markdown",
   "id": "886d7148",
   "metadata": {},
   "source": [
    "# Build Average Face"
   ]
  },
  {
   "cell_type": "code",
   "execution_count": 13,
   "id": "255b8db8",
   "metadata": {},
   "outputs": [
    {
     "data": {
      "image/png": "[encoded data removed]",
      "text/plain": [
       "<Figure size 432x288 with 1 Axes>"
      ]
     },
     "metadata": {
      "needs_background": "light"
     },
     "output_type": "display_data"
    }
   ],
   "source": [
    "import os\n",
    "import cv2\n",
    "import numpy as np\n",
    "import matplotlib.pyplot as plt\n",
    "\n",
    "faces_path = \"300w/\"\n",
    "image_files = []\n",
    "pts_files = []\n",
    "for file in os.listdir(faces_path):\n",
    "    if file.endswith(\".png\"):\n",
    "        image_files.append(file)\n",
    "#         print(file)\n",
    "    elif file.endswith(\".pts\"):\n",
    "        pts_files.append(file)\n",
    "\n",
    "image_files.sort()\n",
    "pts_files.sort()\n",
    "\n",
    "\n",
    "# Get Landmark X and Y Points\n",
    "landmark_x = []\n",
    "landmark_y = []\n",
    "for pts in pts_files:\n",
    "    pts_path = faces_path + pts\n",
    "    with open(pts_path) as pts_file:\n",
    "        data = pts_file.readlines()[3:68+3]\n",
    "        data = [np.array(line.split(), dtype=float) for line in data]\n",
    "        landmarks = np.array(data)\n",
    "\n",
    "        x_points = landmarks[:,0]\n",
    "        y_points = landmarks[:,1]\n",
    "        \n",
    "        landmark_x.append(x_points)\n",
    "        landmark_y.append(y_points)\n",
    "\n",
    "landmark_x = np.array(landmark_x)\n",
    "landmark_y = np.array(landmark_y)\n",
    "\n",
    "\n",
    "# Get image dimensions for normalization\n",
    "im_rows = []\n",
    "im_cols = []\n",
    "for image in image_files:\n",
    "    im = cv2.imread(faces_path + image)\n",
    "    im_rows.append(im.shape[0])\n",
    "    im_cols.append(im.shape[1])\n",
    "\n",
    "im_rows = np.array(im_rows)\n",
    "im_cols = np.array(im_cols)\n",
    "\n",
    "# Normalize by dividing by image height and width\n",
    "for i in range(600):\n",
    "    landmark_x[i] /= im_cols[i]\n",
    "    landmark_y[i] /= im_rows[i]\n",
    "\n",
    "    # center on landmark 34 (tip of nose)\n",
    "    landmark_x[i] -= landmark_x[i,33]\n",
    "    landmark_y[i] -= landmark_y[i,33]\n",
    "    \n",
    "# Compute average face\n",
    "average_x = np.mean(landmark_x, axis=0)\n",
    "average_y = np.mean(landmark_y, axis=0)\n",
    "\n",
    "plt.figure(0)\n",
    "plt.scatter(average_x, -1 * average_y)\n",
    "plt.show()"
   ]
  },
  {
   "cell_type": "markdown",
   "id": "6d9d34d8",
   "metadata": {},
   "source": [
    "# Compute Facial Models"
   ]
  },
  {
   "cell_type": "code",
   "execution_count": 15,
   "id": "0cf6e5aa",
   "metadata": {},
   "outputs": [
    {
     "name": "stdout",
     "output_type": "stream",
     "text": [
      "['0.png', '1.png', '2.png', '3.png', '4.png', '5.png', '6.png', '7.png', '8.png', '9.png']\n",
      "['0.ljson', '1.ljson', '2.ljson', '3.ljson', '4.ljson', '5.ljson', '6.ljson', '7.ljson', '8.ljson', '9.ljson']\n",
      "10\n"
     ]
    }
   ],
   "source": [
    "import os\n",
    "import cv2\n",
    "import json\n",
    "import numpy as np\n",
    "import matplotlib.pyplot as plt\n",
    "\n",
    "artist_path = \"AF_dataset/Amedeo_Modigliani/\"\n",
    "image_files = []\n",
    "json_files = []\n",
    "for file in os.listdir(artist_path):\n",
    "    if file.endswith(\".png\"):\n",
    "        image_files.append(file)\n",
    "    elif file.endswith(\".ljson\"):\n",
    "        json_files.append(file)\n",
    "        \n",
    "image_files.sort()\n",
    "json_files.sort()\n",
    "assert(len(image_files) == len(json_files))\n",
    "n = len(image_files)\n",
    "n_landmarks = 68\n",
    "\n",
    "print(image_files)\n",
    "print(json_files)\n",
    "print(n)"
   ]
  },
  {
   "cell_type": "code",
   "execution_count": 20,
   "id": "95708cc2",
   "metadata": {},
   "outputs": [
    {
     "data": {
      "image/png": "[encoded data removed]",
      "text/plain": [
       "<Figure size 432x288 with 1 Axes>"
      ]
     },
     "metadata": {
      "needs_background": "light"
     },
     "output_type": "display_data"
    }
   ],
   "source": [
    "# Build data matrices for x and y landmark points\n",
    "x_data = np.zeros((n,n_landmarks))\n",
    "y_data = np.zeros((n, n_landmarks))\n",
    "i = 0\n",
    "for json_name in json_files:\n",
    "    with open(artist_path + json_name) as json_file:\n",
    "        landmarks = json.load(json_file)\n",
    "    points = np.array(landmarks[\"landmarks\"][\"points\"]) # 68 x 2 np array\n",
    "    x_data[i] = points[:,1]\n",
    "    y_data[i] = points[:,0]\n",
    "    i += 1\n",
    "# print(x_data.shape)\n",
    "# print(y_data.shape)\n",
    "\n",
    "# Get image dimensions for normalization\n",
    "im_rows = []\n",
    "im_cols = []\n",
    "for image in image_files:\n",
    "    im = cv2.imread(artist_path + image)\n",
    "    im_rows.append(im.shape[0])\n",
    "    im_cols.append(im.shape[1])\n",
    "    \n",
    "# normalize\n",
    "for i in range(n):\n",
    "    x_data[i] /= im_cols[i]\n",
    "    y_data[i] /= im_rows[i]\n",
    "    \n",
    "    # center on landmark 34 (tip of nose)\n",
    "    x_data[i] -= x_data[i,33]\n",
    "    y_data[i] -= y_data[i,33]\n",
    "    \n",
    "plt.figure(1)\n",
    "plt.scatter(x_data, -1 * y_data, s=1)\n",
    "plt.show()"
   ]
  },
  {
   "cell_type": "code",
   "execution_count": 18,
   "id": "dabe2616",
   "metadata": {},
   "outputs": [],
   "source": [
    "# compute difference vectors\n",
    "x_diff = x_data - average_x # 10 x 68\n",
    "y_diff = y_data - average_y # 10 x 68\n",
    "\n",
    "v_artist = np.concatenate((x_diff, y_diff), axis=1) # first 68 are x and last 68 are y in each row\n",
    "# print(v_artist.shape)\n",
    "\n",
    "# compute statistics\n",
    "mu_artist = np.mean(v_artist, axis=0)\n",
    "cov_artist = np.cov(v_artist.T)\n",
    "\n",
    "# save model\n",
    "mean_path = artist_path + \"mean\"\n",
    "cov_path = artist_path + \"cov\"\n",
    "np.save(mean_path, mu_artist)\n",
    "np.save(cov_path, cov_artist)"
   ]
  }
 ],
 "metadata": {
  "kernelspec": {
   "display_name": "Python 3",
   "language": "python",
   "name": "python3"
  },
  "language_info": {
   "codemirror_mode": {
    "name": "ipython",
    "version": 3
   },
   "file_extension": ".py",
   "mimetype": "text/x-python",
   "name": "python",
   "nbconvert_exporter": "python",
   "pygments_lexer": "ipython3",
   "version": "3.6.8"
  }
 },
 "nbformat": 4,
 "nbformat_minor": 5
}
